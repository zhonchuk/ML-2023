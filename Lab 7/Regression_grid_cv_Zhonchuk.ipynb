{
 "cells": [
  {
   "cell_type": "markdown",
   "id": "6706f670",
   "metadata": {},
   "source": [
    "\n",
    "# ЛАБОРАТОРНА РОБОТА  \n",
    "\n",
    "## \"Лінійні та нелінійні регресійні моделі МН\"\n",
    "\n",
    "__Метою__ лабораторної роботи є набуття практичних навичок використання модулів бібліотеки `Scikit-learn` для вирішення наступних задач:\n",
    "\n",
    "- визначення суттєвих показчиків для регресійної моделі\n",
    "- пошук та настроювання гіперпараметрів лінійних та нелінійних регресійних моделей\n",
    "\n",
    "__Результатом__ виконання лабораторної роботи є серія моделей які прогнозують ціну кватрир на вторинному ринку житла"
   ]
  },
  {
   "cell_type": "code",
   "execution_count": 13,
   "id": "bdfb6875",
   "metadata": {},
   "outputs": [
    {
     "data": {
      "text/plain": [
       "(398, 176)"
      ]
     },
     "execution_count": 13,
     "metadata": {},
     "output_type": "execute_result"
    }
   ],
   "source": [
    "import pandas as pd\n",
    "import numpy as np\n",
    "\n",
    "data = pd.read_csv(\"apartment_transformed.csv\")\n",
    "data.shape"
   ]
  },
  {
   "cell_type": "code",
   "execution_count": 14,
   "id": "3d17c75b",
   "metadata": {},
   "outputs": [
    {
     "data": {
      "text/plain": [
       "((398, 175), (398,))"
      ]
     },
     "execution_count": 14,
     "metadata": {},
     "output_type": "execute_result"
    }
   ],
   "source": [
    "# відокремити ціловий показчик 'price'\n",
    "price = data[\"Price\"]\n",
    "\n",
    "# зилишити в 'data' тільки незалежні показчики\n",
    "data = data.drop(columns = [\"Price\"])\n",
    "\n",
    "data.shape, price.shape    # ((676, 301), (676,))"
   ]
  },
  {
   "cell_type": "markdown",
   "id": "4b391a2e",
   "metadata": {},
   "source": [
    "## 1. Пошук значущих ознак"
   ]
  },
  {
   "cell_type": "markdown",
   "id": "27e655c1",
   "metadata": {},
   "source": [
    "### Теоретичне введення"
   ]
  },
  {
   "cell_type": "markdown",
   "id": "83fe0105",
   "metadata": {},
   "source": [
    "__Значущі (суттеві) ознаки__ це дані, які мають сильну кореляцію або вплив на результат або прогноз моделі.\n",
    "\n",
    "Ці позазчики визначаються за допомогою процесу, який називається __відбором ознак__ ([Feature selection](https://en.wikipedia.org/wiki/Feature_selection)), який передбачає _оцінку_ та _ранжування важливості_ різних змінних у наборі даних. Це можна зробити за дпомогою статистичних тестів, кореляційного аналізу або алгоритмів машинного навчання.\n",
    "\n",
    "Після визначення значущих ознак їх можна використовувати для навчання моделі машинного навчання.\n",
    "\n",
    "Це може бути особливо важливим у моделях, де дані складні та містять багато змінних. Тому ідентифікація  суттєвих ознак може допомогти зменшити розмірність даних і покращити продуктивність моделі.\n",
    "\n",
    "Класи в модулі [sklearn.feature_selection](https://scikit-learn.org/stable/modules/feature_selection.html) можна використовувати для вибору функцій/зменшення розмірності на вибіркових наборах або для покращення показників точності оцінювачів, або для підвищення їх продуктивності на масивах даних з дуже великою розмірністю."
   ]
  },
  {
   "cell_type": "markdown",
   "id": "ce8a207f",
   "metadata": {},
   "source": [
    "### Завдання\n",
    "\n",
    "Відібрати з вхідного набору `data` 7 найбільш суттєвих показчиків для регрісійної моделі машинного навчання."
   ]
  },
  {
   "cell_type": "code",
   "execution_count": 15,
   "id": "3da76799",
   "metadata": {},
   "outputs": [],
   "source": [
    "# імпортувати з модуля 'feature_selection' селектор ознак 'SelectKBest' \n",
    "# та регрісійний тест 'f_regression'\n",
    "from sklearn.feature_selection import SelectKBest, f_regression"
   ]
  },
  {
   "cell_type": "code",
   "execution_count": 16,
   "id": "443396fe",
   "metadata": {
    "scrolled": true
   },
   "outputs": [],
   "source": [
    "# побудувати селектор 7 ознак на f-регресорі\n",
    "kbest_selector = SelectKBest(f_regression, k = 7)\n",
    "\n",
    "# застосувати селектор для побудови списку ознак\n",
    "data_selected = kbest_selector.fit_transform(data, price)"
   ]
  },
  {
   "cell_type": "code",
   "execution_count": 17,
   "id": "74635da9",
   "metadata": {},
   "outputs": [],
   "source": [
    "# зберегти імена визначених селектором найбільш суттєвих ознак\n",
    "best_features = kbest_selector.get_feature_names_out()"
   ]
  },
  {
   "cell_type": "code",
   "execution_count": 18,
   "id": "c8761bcd",
   "metadata": {},
   "outputs": [
    {
     "data": {
      "text/html": [
       "<div>\n",
       "<style scoped>\n",
       "    .dataframe tbody tr th:only-of-type {\n",
       "        vertical-align: middle;\n",
       "    }\n",
       "\n",
       "    .dataframe tbody tr th {\n",
       "        vertical-align: top;\n",
       "    }\n",
       "\n",
       "    .dataframe thead th {\n",
       "        text-align: right;\n",
       "    }\n",
       "</style>\n",
       "<table border=\"1\" class=\"dataframe\">\n",
       "  <thead>\n",
       "    <tr style=\"text-align: right;\">\n",
       "      <th></th>\n",
       "      <th>ohe_categirical_encoder__street_Мічуріна</th>\n",
       "      <th>ohe_categirical_encoder__street_Саксаганського</th>\n",
       "      <th>numeric_encoder__rooms</th>\n",
       "      <th>numeric_encoder__price_per_m2</th>\n",
       "      <th>numeric_encoder__area_total</th>\n",
       "      <th>numeric_encoder__area_living</th>\n",
       "      <th>numeric_encoder__area_comfort</th>\n",
       "    </tr>\n",
       "  </thead>\n",
       "  <tbody>\n",
       "    <tr>\n",
       "      <th>0</th>\n",
       "      <td>0.0</td>\n",
       "      <td>0.0</td>\n",
       "      <td>-1.125471</td>\n",
       "      <td>-0.139455</td>\n",
       "      <td>-1.048667</td>\n",
       "      <td>-1.011456</td>\n",
       "      <td>-0.424751</td>\n",
       "    </tr>\n",
       "    <tr>\n",
       "      <th>1</th>\n",
       "      <td>0.0</td>\n",
       "      <td>0.0</td>\n",
       "      <td>-0.160089</td>\n",
       "      <td>-0.117124</td>\n",
       "      <td>-0.287044</td>\n",
       "      <td>-0.148058</td>\n",
       "      <td>-0.315639</td>\n",
       "    </tr>\n",
       "    <tr>\n",
       "      <th>2</th>\n",
       "      <td>0.0</td>\n",
       "      <td>0.0</td>\n",
       "      <td>-0.160089</td>\n",
       "      <td>-0.015546</td>\n",
       "      <td>-0.265888</td>\n",
       "      <td>-0.579757</td>\n",
       "      <td>0.011697</td>\n",
       "    </tr>\n",
       "    <tr>\n",
       "      <th>3</th>\n",
       "      <td>0.0</td>\n",
       "      <td>0.0</td>\n",
       "      <td>-0.160089</td>\n",
       "      <td>-0.118144</td>\n",
       "      <td>-0.244731</td>\n",
       "      <td>-0.148058</td>\n",
       "      <td>-0.388380</td>\n",
       "    </tr>\n",
       "    <tr>\n",
       "      <th>4</th>\n",
       "      <td>0.0</td>\n",
       "      <td>0.0</td>\n",
       "      <td>-1.125471</td>\n",
       "      <td>-0.105013</td>\n",
       "      <td>-0.985198</td>\n",
       "      <td>-0.148058</td>\n",
       "      <td>-0.788458</td>\n",
       "    </tr>\n",
       "  </tbody>\n",
       "</table>\n",
       "</div>"
      ],
      "text/plain": [
       "   ohe_categirical_encoder__street_Мічуріна  \\\n",
       "0                                       0.0   \n",
       "1                                       0.0   \n",
       "2                                       0.0   \n",
       "3                                       0.0   \n",
       "4                                       0.0   \n",
       "\n",
       "   ohe_categirical_encoder__street_Саксаганського  numeric_encoder__rooms  \\\n",
       "0                                             0.0               -1.125471   \n",
       "1                                             0.0               -0.160089   \n",
       "2                                             0.0               -0.160089   \n",
       "3                                             0.0               -0.160089   \n",
       "4                                             0.0               -1.125471   \n",
       "\n",
       "   numeric_encoder__price_per_m2  numeric_encoder__area_total  \\\n",
       "0                      -0.139455                    -1.048667   \n",
       "1                      -0.117124                    -0.287044   \n",
       "2                      -0.015546                    -0.265888   \n",
       "3                      -0.118144                    -0.244731   \n",
       "4                      -0.105013                    -0.985198   \n",
       "\n",
       "   numeric_encoder__area_living  numeric_encoder__area_comfort  \n",
       "0                     -1.011456                      -0.424751  \n",
       "1                     -0.148058                      -0.315639  \n",
       "2                     -0.579757                       0.011697  \n",
       "3                     -0.148058                      -0.388380  \n",
       "4                     -0.148058                      -0.788458  "
      ]
     },
     "execution_count": 18,
     "metadata": {},
     "output_type": "execute_result"
    }
   ],
   "source": [
    "# побудувати датафрейм на визначених ознаках\n",
    "data = pd.DataFrame(data_selected, columns = best_features)\n",
    "data.head()"
   ]
  },
  {
   "cell_type": "markdown",
   "id": "949c8685",
   "metadata": {},
   "source": [
    "### Висновки\n",
    "\n",
    "_описати загальну статистичну характеристику отриманого датасети та зробити висновки щодо можливості його використання для подальшого аналізу_\n",
    "\n",
    "Було проведено аналіз загальних статистичних характеристик датасету та зроблено висновки щодо його придатності для подальшого використання в аналітичних дослідженнях."
   ]
  },
  {
   "cell_type": "markdown",
   "id": "4ce163fc",
   "metadata": {},
   "source": [
    "## 2. Множинна лінійна регресія"
   ]
  },
  {
   "cell_type": "markdown",
   "id": "6c4205a3",
   "metadata": {},
   "source": [
    "### Теоретичне введення"
   ]
  },
  {
   "cell_type": "markdown",
   "id": "24b4dc56",
   "metadata": {},
   "source": [
    "__Множинна лінійна регресія__ — це статистичний метод, який використовується для встановлення зв’язку між _залежною_ (цільвою) змінною $\\textbf y$ та _кількома_ незалежними змінними $\\textbf [X]$.  \n",
    "\n",
    "__Метою__ множинної лінійної регресії є знаходження найкращого лінійного зв’язку між залежною змінною та незалежними змінними, який виражається у вигляді рівняння:\n",
    "$$y = b_0 + b_1 x_1 + b_2 x_2 + ... + b_n x_n$$\n",
    "\n",
    "Найкращій зв'язок забезпечується знаходженням таких коєфіцієнтів $[B]$, що додають мінімум обраній метриці (MSE, MAE, ...)"
   ]
  },
  {
   "cell_type": "markdown",
   "id": "bb6eda7e",
   "metadata": {},
   "source": [
    "### Завдання\n",
    "\n",
    "\n",
    "Порахувати показчики якості моделі [лінйной множинної регресії](https://uk.mcfairbanks.com/719-multiple-regression-formula) на визначениx п.1 значущих ознаках датасету застосувавши [кросс-валідацію з __10__ сплітами](https://scikit-learn.org/stable/modules/cross_validation.html)."
   ]
  },
  {
   "cell_type": "code",
   "execution_count": 19,
   "id": "7ff83f4d",
   "metadata": {},
   "outputs": [],
   "source": [
    "# імпортувати та побудувати лінійний регресор з параметрами за замовчанням\n",
    "from sklearn.linear_model import LinearRegression\n",
    "lr = LinearRegression()"
   ]
  },
  {
   "cell_type": "code",
   "execution_count": 20,
   "id": "5bef1de0",
   "metadata": {},
   "outputs": [],
   "source": [
    "# імпортувати крос-валідатор 'cross_validate' з модуля 'model_selection'\n",
    "from sklearn.model_selection import cross_validate"
   ]
  },
  {
   "cell_type": "code",
   "execution_count": 21,
   "id": "d24b7e36",
   "metadata": {},
   "outputs": [],
   "source": [
    "# отримати результати крос-валідації по параметрам 'neg_mean_absolute_percentage_error' \n",
    "# та 'r2' на 10 сплітах передбачивши розрахунок на навчальному наборі 'return_train_score'\n",
    "cv_results_mul = cross_validate(lr, data, price, cv = 10,\n",
    "                         scoring = (\"neg_mean_absolute_percentage_error\",\"r2\"),\n",
    "                         return_train_score = True)"
   ]
  },
  {
   "cell_type": "markdown",
   "id": "0b944d08",
   "metadata": {},
   "source": [
    "#### занести результати в датафрейм 'cv_results_mul ' наступного вигляду:\n",
    "\n",
    "------------\n",
    "\n",
    "|помилка тесту в %   |коєф. R2 тесту  | помилка навчання в %  | коєф. R2 навчання  |\n",
    "| :------------:|:------------:|:------------:|:------------:|\n",
    "|  xx.xx | xx.xx  | xx.xx  | xx.xx  |\n",
    "|  xx.xx | xx.xx  | xx.xx  | xx.xx  |\n",
    "|  ... | ...  | ...  | ...  |\n"
   ]
  },
  {
   "cell_type": "code",
   "execution_count": 24,
   "id": "f11ec7b5",
   "metadata": {
    "scrolled": true
   },
   "outputs": [
    {
     "data": {
      "text/html": [
       "<div>\n",
       "<style scoped>\n",
       "    .dataframe tbody tr th:only-of-type {\n",
       "        vertical-align: middle;\n",
       "    }\n",
       "\n",
       "    .dataframe tbody tr th {\n",
       "        vertical-align: top;\n",
       "    }\n",
       "\n",
       "    .dataframe thead th {\n",
       "        text-align: right;\n",
       "    }\n",
       "</style>\n",
       "<table border=\"1\" class=\"dataframe\">\n",
       "  <thead>\n",
       "    <tr style=\"text-align: right;\">\n",
       "      <th></th>\n",
       "      <th>помилка тесту в %</th>\n",
       "      <th>коєф. R2 тесту</th>\n",
       "      <th>помилка навчання в %</th>\n",
       "      <th>коєф. R2 навчання</th>\n",
       "    </tr>\n",
       "  </thead>\n",
       "  <tbody>\n",
       "    <tr>\n",
       "      <th>0</th>\n",
       "      <td>-0.391580</td>\n",
       "      <td>0.980588</td>\n",
       "      <td>-0.475435</td>\n",
       "      <td>0.866733</td>\n",
       "    </tr>\n",
       "    <tr>\n",
       "      <th>1</th>\n",
       "      <td>-0.526764</td>\n",
       "      <td>0.631274</td>\n",
       "      <td>-0.437881</td>\n",
       "      <td>0.985897</td>\n",
       "    </tr>\n",
       "    <tr>\n",
       "      <th>2</th>\n",
       "      <td>-0.385269</td>\n",
       "      <td>0.866260</td>\n",
       "      <td>-0.426024</td>\n",
       "      <td>0.986208</td>\n",
       "    </tr>\n",
       "    <tr>\n",
       "      <th>3</th>\n",
       "      <td>-0.557975</td>\n",
       "      <td>0.762530</td>\n",
       "      <td>-0.434469</td>\n",
       "      <td>0.986042</td>\n",
       "    </tr>\n",
       "    <tr>\n",
       "      <th>4</th>\n",
       "      <td>-0.332169</td>\n",
       "      <td>0.862515</td>\n",
       "      <td>-0.452417</td>\n",
       "      <td>0.985995</td>\n",
       "    </tr>\n",
       "  </tbody>\n",
       "</table>\n",
       "</div>"
      ],
      "text/plain": [
       "   помилка тесту в %  коєф. R2 тесту  помилка навчання в %  коєф. R2 навчання\n",
       "0          -0.391580        0.980588             -0.475435           0.866733\n",
       "1          -0.526764        0.631274             -0.437881           0.985897\n",
       "2          -0.385269        0.866260             -0.426024           0.986208\n",
       "3          -0.557975        0.762530             -0.434469           0.986042\n",
       "4          -0.332169        0.862515             -0.452417           0.985995"
      ]
     },
     "execution_count": 24,
     "metadata": {},
     "output_type": "execute_result"
    }
   ],
   "source": [
    "cv_results_mul = pd.DataFrame({'помилка тесту в %': cv_results_mul['test_neg_mean_absolute_percentage_error'],\n",
    "                              'коєф. R2 тесту': cv_results_mul['test_r2'],\n",
    "                              'помилка навчання в %': cv_results_mul['train_neg_mean_absolute_percentage_error'],\n",
    "                              'коєф. R2 навчання': cv_results_mul['train_r2']})\n",
    "cv_results_mul.head()"
   ]
  },
  {
   "cell_type": "code",
   "execution_count": 25,
   "id": "de859c53",
   "metadata": {},
   "outputs": [
    {
     "name": "stdout",
     "output_type": "stream",
     "text": [
      "середня помилка навчання =  -0.4352182231336667\n",
      "середня помилка тесту =  -0.4352182231336667\n"
     ]
    }
   ],
   "source": [
    "# продовжити наступні команди виводу:\n",
    "print (\"середня помилка навчання = \" , np.mean(cv_results_mul['помилка навчання в %']))\n",
    "print (\"середня помилка тесту = \", np.mean(cv_results_mul['помилка навчання в %']))"
   ]
  },
  {
   "cell_type": "markdown",
   "id": "63800fff",
   "metadata": {},
   "source": [
    "### Висновки\n",
    "\n",
    "_зпираючись на отримані метрики якості зробити висновок про придатність моделі, недонавчана чи перенавчана вона і т.п._\n",
    "Значення помилки для навчальної та тестової вибірок є досить низькими, що свідчить про хорошу роботу моделі. "
   ]
  },
  {
   "cell_type": "markdown",
   "id": "b034005f",
   "metadata": {},
   "source": [
    "## 3. Гребнева (Ridge) регресія"
   ]
  },
  {
   "cell_type": "markdown",
   "id": "206d4b9b",
   "metadata": {
    "heading_collapsed": true
   },
   "source": [
    "### Теоретичне введення"
   ]
  },
  {
   "cell_type": "markdown",
   "id": "efada9e6",
   "metadata": {
    "hidden": true
   },
   "source": [
    "__Гребнева регресія__ — це техніка регулярізації, яка використовується в машинному навчанні для запобігання перенавчанню лінійних регресійних моделей за рахунок додавання штрафу до функції втрат регресійної моделі, яка зменшує величину коефіцієнтів до нуля.\n",
    "\n",
    "$$\\min_w\\sum_{i=1}^n(y_i - x_i^w)^2 + \\lambda|w|_2^2$$\n",
    "\n",
    "Розмір штрафу визначається [нормою L2](https://craftappmobile.com/l1-vs-l2-regularization/) вектора коефіцієнтів, помноженою на гіперпараметр $\\large \\lambda$.\n",
    "\n",
    "\n"
   ]
  },
  {
   "cell_type": "markdown",
   "id": "779e5d1a",
   "metadata": {},
   "source": [
    "### Завдання\n",
    "\n",
    "Побудувати модель на основі `ridge-регресії` та за допомогою [GridSearchCV](https://scikit-learn.org/stable/modules/generated/sklearn.model_selection.GridSearchCV.html) знайти таке значення _L2-регулярізатора_, яке буде\n",
    "мінізувати обрані метрики якості моделі.\n",
    "Для побудови моделі скоистатися датасетом, що отримано в  __завданні 1__ лабораторної роботи\n"
   ]
  },
  {
   "cell_type": "code",
   "execution_count": 26,
   "id": "ede2330d",
   "metadata": {},
   "outputs": [],
   "source": [
    "# імпортувати ridge-регресор з модуля `sklearn.linear_model`\n",
    "from sklearn.linear_model import Ridge\n",
    "\n",
    "# побудувати регресор\n",
    "ridge = Ridge(random_state=2, fit_intercept=False)"
   ]
  },
  {
   "cell_type": "code",
   "execution_count": 27,
   "id": "d716b997",
   "metadata": {},
   "outputs": [],
   "source": [
    "# імпортувати сітку пошуку `GridSearchCV` з модулю sklearn.model_selection\n",
    "from sklearn.model_selection import GridSearchCV\n",
    "# визначити параметр равномірного пошуку 100 значень параметеру `alpha` в диапазоні 0-100000 \n",
    "grid_params = {\"alpha\": [0, 100000],\"max_iter\": [0, 100]}"
   ]
  },
  {
   "cell_type": "code",
   "execution_count": 28,
   "id": "622b3635",
   "metadata": {
    "scrolled": true
   },
   "outputs": [
    {
     "name": "stdout",
     "output_type": "stream",
     "text": [
      "CPU times: total: 359 ms\n",
      "Wall time: 368 ms\n"
     ]
    },
    {
     "name": "stderr",
     "output_type": "stream",
     "text": [
      "C:\\Users\\hp\\anaconda3\\envs\\ML\\lib\\site-packages\\sklearn\\model_selection\\_validation.py:378: FitFailedWarning: \n",
      "10 fits failed out of a total of 20.\n",
      "The score on these train-test partitions for these parameters will be set to nan.\n",
      "If these failures are not expected, you can try to debug them by setting error_score='raise'.\n",
      "\n",
      "Below are more details about the failures:\n",
      "--------------------------------------------------------------------------------\n",
      "10 fits failed with the following error:\n",
      "Traceback (most recent call last):\n",
      "  File \"C:\\Users\\hp\\anaconda3\\envs\\ML\\lib\\site-packages\\sklearn\\model_selection\\_validation.py\", line 686, in _fit_and_score\n",
      "    estimator.fit(X_train, y_train, **fit_params)\n",
      "  File \"C:\\Users\\hp\\anaconda3\\envs\\ML\\lib\\site-packages\\sklearn\\linear_model\\_ridge.py\", line 1123, in fit\n",
      "    self._validate_params()\n",
      "  File \"C:\\Users\\hp\\anaconda3\\envs\\ML\\lib\\site-packages\\sklearn\\base.py\", line 570, in _validate_params\n",
      "    validate_parameter_constraints(\n",
      "  File \"C:\\Users\\hp\\anaconda3\\envs\\ML\\lib\\site-packages\\sklearn\\utils\\_param_validation.py\", line 97, in validate_parameter_constraints\n",
      "    raise InvalidParameterError(\n",
      "sklearn.utils._param_validation.InvalidParameterError: The 'max_iter' parameter of Ridge must be an int in the range [1, inf) or None. Got 0 instead.\n",
      "\n",
      "  warnings.warn(some_fits_failed_message, FitFailedWarning)\n",
      "C:\\Users\\hp\\anaconda3\\envs\\ML\\lib\\site-packages\\sklearn\\model_selection\\_search.py:953: UserWarning: One or more of the test scores are non-finite: [            nan -1.26558901e+13             nan -1.01066887e+00]\n",
      "  warnings.warn(\n"
     ]
    },
    {
     "data": {
      "text/html": [
       "<style>#sk-container-id-1 {color: black;background-color: white;}#sk-container-id-1 pre{padding: 0;}#sk-container-id-1 div.sk-toggleable {background-color: white;}#sk-container-id-1 label.sk-toggleable__label {cursor: pointer;display: block;width: 100%;margin-bottom: 0;padding: 0.3em;box-sizing: border-box;text-align: center;}#sk-container-id-1 label.sk-toggleable__label-arrow:before {content: \"▸\";float: left;margin-right: 0.25em;color: #696969;}#sk-container-id-1 label.sk-toggleable__label-arrow:hover:before {color: black;}#sk-container-id-1 div.sk-estimator:hover label.sk-toggleable__label-arrow:before {color: black;}#sk-container-id-1 div.sk-toggleable__content {max-height: 0;max-width: 0;overflow: hidden;text-align: left;background-color: #f0f8ff;}#sk-container-id-1 div.sk-toggleable__content pre {margin: 0.2em;color: black;border-radius: 0.25em;background-color: #f0f8ff;}#sk-container-id-1 input.sk-toggleable__control:checked~div.sk-toggleable__content {max-height: 200px;max-width: 100%;overflow: auto;}#sk-container-id-1 input.sk-toggleable__control:checked~label.sk-toggleable__label-arrow:before {content: \"▾\";}#sk-container-id-1 div.sk-estimator input.sk-toggleable__control:checked~label.sk-toggleable__label {background-color: #d4ebff;}#sk-container-id-1 div.sk-label input.sk-toggleable__control:checked~label.sk-toggleable__label {background-color: #d4ebff;}#sk-container-id-1 input.sk-hidden--visually {border: 0;clip: rect(1px 1px 1px 1px);clip: rect(1px, 1px, 1px, 1px);height: 1px;margin: -1px;overflow: hidden;padding: 0;position: absolute;width: 1px;}#sk-container-id-1 div.sk-estimator {font-family: monospace;background-color: #f0f8ff;border: 1px dotted black;border-radius: 0.25em;box-sizing: border-box;margin-bottom: 0.5em;}#sk-container-id-1 div.sk-estimator:hover {background-color: #d4ebff;}#sk-container-id-1 div.sk-parallel-item::after {content: \"\";width: 100%;border-bottom: 1px solid gray;flex-grow: 1;}#sk-container-id-1 div.sk-label:hover label.sk-toggleable__label {background-color: #d4ebff;}#sk-container-id-1 div.sk-serial::before {content: \"\";position: absolute;border-left: 1px solid gray;box-sizing: border-box;top: 0;bottom: 0;left: 50%;z-index: 0;}#sk-container-id-1 div.sk-serial {display: flex;flex-direction: column;align-items: center;background-color: white;padding-right: 0.2em;padding-left: 0.2em;position: relative;}#sk-container-id-1 div.sk-item {position: relative;z-index: 1;}#sk-container-id-1 div.sk-parallel {display: flex;align-items: stretch;justify-content: center;background-color: white;position: relative;}#sk-container-id-1 div.sk-item::before, #sk-container-id-1 div.sk-parallel-item::before {content: \"\";position: absolute;border-left: 1px solid gray;box-sizing: border-box;top: 0;bottom: 0;left: 50%;z-index: -1;}#sk-container-id-1 div.sk-parallel-item {display: flex;flex-direction: column;z-index: 1;position: relative;background-color: white;}#sk-container-id-1 div.sk-parallel-item:first-child::after {align-self: flex-end;width: 50%;}#sk-container-id-1 div.sk-parallel-item:last-child::after {align-self: flex-start;width: 50%;}#sk-container-id-1 div.sk-parallel-item:only-child::after {width: 0;}#sk-container-id-1 div.sk-dashed-wrapped {border: 1px dashed gray;margin: 0 0.4em 0.5em 0.4em;box-sizing: border-box;padding-bottom: 0.4em;background-color: white;}#sk-container-id-1 div.sk-label label {font-family: monospace;font-weight: bold;display: inline-block;line-height: 1.2em;}#sk-container-id-1 div.sk-label-container {text-align: center;}#sk-container-id-1 div.sk-container {/* jupyter's `normalize.less` sets `[hidden] { display: none; }` but bootstrap.min.css set `[hidden] { display: none !important; }` so we also need the `!important` here to be able to override the default hidden behavior on the sphinx rendered scikit-learn.org. See: https://github.com/scikit-learn/scikit-learn/issues/21755 */display: inline-block !important;position: relative;}#sk-container-id-1 div.sk-text-repr-fallback {display: none;}</style><div id=\"sk-container-id-1\" class=\"sk-top-container\"><div class=\"sk-text-repr-fallback\"><pre>GridSearchCV(estimator=Ridge(fit_intercept=False, random_state=2),\n",
       "             param_grid={&#x27;alpha&#x27;: [0, 100000], &#x27;max_iter&#x27;: [0, 100]},\n",
       "             scoring=&#x27;neg_mean_absolute_percentage_error&#x27;)</pre><b>In a Jupyter environment, please rerun this cell to show the HTML representation or trust the notebook. <br />On GitHub, the HTML representation is unable to render, please try loading this page with nbviewer.org.</b></div><div class=\"sk-container\" hidden><div class=\"sk-item sk-dashed-wrapped\"><div class=\"sk-label-container\"><div class=\"sk-label sk-toggleable\"><input class=\"sk-toggleable__control sk-hidden--visually\" id=\"sk-estimator-id-1\" type=\"checkbox\" ><label for=\"sk-estimator-id-1\" class=\"sk-toggleable__label sk-toggleable__label-arrow\">GridSearchCV</label><div class=\"sk-toggleable__content\"><pre>GridSearchCV(estimator=Ridge(fit_intercept=False, random_state=2),\n",
       "             param_grid={&#x27;alpha&#x27;: [0, 100000], &#x27;max_iter&#x27;: [0, 100]},\n",
       "             scoring=&#x27;neg_mean_absolute_percentage_error&#x27;)</pre></div></div></div><div class=\"sk-parallel\"><div class=\"sk-parallel-item\"><div class=\"sk-item\"><div class=\"sk-label-container\"><div class=\"sk-label sk-toggleable\"><input class=\"sk-toggleable__control sk-hidden--visually\" id=\"sk-estimator-id-2\" type=\"checkbox\" ><label for=\"sk-estimator-id-2\" class=\"sk-toggleable__label sk-toggleable__label-arrow\">estimator: Ridge</label><div class=\"sk-toggleable__content\"><pre>Ridge(fit_intercept=False, random_state=2)</pre></div></div></div><div class=\"sk-serial\"><div class=\"sk-item\"><div class=\"sk-estimator sk-toggleable\"><input class=\"sk-toggleable__control sk-hidden--visually\" id=\"sk-estimator-id-3\" type=\"checkbox\" ><label for=\"sk-estimator-id-3\" class=\"sk-toggleable__label sk-toggleable__label-arrow\">Ridge</label><div class=\"sk-toggleable__content\"><pre>Ridge(fit_intercept=False, random_state=2)</pre></div></div></div></div></div></div></div></div></div></div>"
      ],
      "text/plain": [
       "GridSearchCV(estimator=Ridge(fit_intercept=False, random_state=2),\n",
       "             param_grid={'alpha': [0, 100000], 'max_iter': [0, 100]},\n",
       "             scoring='neg_mean_absolute_percentage_error')"
      ]
     },
     "execution_count": 28,
     "metadata": {},
     "output_type": "execute_result"
    }
   ],
   "source": [
    "%%time\n",
    "\n",
    "# побудувати та натренувати гребневу регресійну модель на сітці 'grid_params'\n",
    "# в якості критерія оцінки якості взяти метрику `neg_mean_absolute_percentage_error`\n",
    "\n",
    "# створюємо сітку пошуку та тренуємо на ній модель\n",
    "grid_search_model = GridSearchCV(ridge, param_grid = grid_params,\n",
    "                                 scoring='neg_mean_absolute_percentage_error')\n",
    "\n",
    "grid_search_model.fit(data, price)"
   ]
  },
  {
   "cell_type": "code",
   "execution_count": 29,
   "id": "a06ea03d",
   "metadata": {},
   "outputs": [
    {
     "data": {
      "text/plain": [
       "(Ridge(alpha=100000, fit_intercept=False, max_iter=100, random_state=2),\n",
       " -1.0106688690630032)"
      ]
     },
     "execution_count": 29,
     "metadata": {},
     "output_type": "execute_result"
    }
   ],
   "source": [
    "# вивести найкращій естіматор (best_estimator_), та найкраще значення обраної метрики (best_score_)\n",
    "grid_search_model.best_estimator_, grid_search_model.best_score_"
   ]
  },
  {
   "cell_type": "markdown",
   "id": "2c6b8083",
   "metadata": {},
   "source": [
    "### Висновки\n",
    "\n",
    "_cпираючись на отримані метрики якості зробити висновок про придатність моделі, недонавчана чи перенавчана вона і т.п._\n",
    "Помилка в цій моделі більша, ніж у попередньої"
   ]
  },
  {
   "cell_type": "markdown",
   "id": "d2792628",
   "metadata": {},
   "source": [
    "## 3. Поліноміальна регресія"
   ]
  },
  {
   "cell_type": "markdown",
   "id": "075bd403",
   "metadata": {},
   "source": [
    "### Теоретичне введення"
   ]
  },
  {
   "cell_type": "markdown",
   "id": "512d140f",
   "metadata": {},
   "source": [
    "__Поліноміальна регресія__ — це тип нелінійної регресії, у якому зв’язок між незалежною змінною $\\large x$ і залежною змінною $\\large y$ моделюється як поліноміальна функція n-го ступеня:\n",
    "\n",
    "$$ y = \\beta_0 + \\beta_1 x + \\beta_2 x^2 + \\beta_3 x^3 + \\cdots + \\beta_n x^n + \\varepsilon $$\n",
    "\n",
    "__Метою__ поліноміальної регресії є знаходження значень коефіцієнтів $ β_i$, які найкраще відповідають даним."
   ]
  },
  {
   "cell_type": "markdown",
   "id": "f17ee202",
   "metadata": {},
   "source": [
    "### Завдання\n",
    "\n",
    "\n",
    "Порахувати показчики якості моделі на [поліноміальній регресії](https://uk.wikipedia.org/wiki/Поліноміальна_регресія) на визначених в п.1 значущих ознаках датасету, попередньо розширивши датасет за допомогою трансформера [PolynomialFeatures](https://scikit-learn.org/stable/modules/generated/sklearn.preprocessing.PolynomialFeatures.html)"
   ]
  },
  {
   "cell_type": "code",
   "execution_count": 34,
   "id": "d60b613c",
   "metadata": {
    "scrolled": true
   },
   "outputs": [],
   "source": [
    "# імпортувати модуль preprocessing.PolynomialFeatures\n",
    "from sklearn.preprocessing import PolynomialFeatures\n",
    "\n",
    "# побудувати трансформер ступеня 2 для побудови додаткових ознак в датасеті\n",
    "poly = PolynomialFeatures(include_bias = False)\n",
    "data_poly = poly.fit_transform(data)"
   ]
  },
  {
   "cell_type": "code",
   "execution_count": 35,
   "id": "435dd363",
   "metadata": {},
   "outputs": [],
   "source": [
    "# визначити імена відібраних показчиків\n",
    "poly_features_names = poly.get_feature_names_out()"
   ]
  },
  {
   "cell_type": "code",
   "execution_count": 36,
   "id": "128e08be",
   "metadata": {},
   "outputs": [
    {
     "data": {
      "text/html": [
       "<div>\n",
       "<style scoped>\n",
       "    .dataframe tbody tr th:only-of-type {\n",
       "        vertical-align: middle;\n",
       "    }\n",
       "\n",
       "    .dataframe tbody tr th {\n",
       "        vertical-align: top;\n",
       "    }\n",
       "\n",
       "    .dataframe thead th {\n",
       "        text-align: right;\n",
       "    }\n",
       "</style>\n",
       "<table border=\"1\" class=\"dataframe\">\n",
       "  <thead>\n",
       "    <tr style=\"text-align: right;\">\n",
       "      <th></th>\n",
       "      <th>ohe_categirical_encoder__street_Мічуріна</th>\n",
       "      <th>ohe_categirical_encoder__street_Саксаганського</th>\n",
       "      <th>numeric_encoder__rooms</th>\n",
       "      <th>numeric_encoder__price_per_m2</th>\n",
       "      <th>numeric_encoder__area_total</th>\n",
       "      <th>numeric_encoder__area_living</th>\n",
       "      <th>numeric_encoder__area_comfort</th>\n",
       "      <th>ohe_categirical_encoder__street_Мічуріна^2</th>\n",
       "      <th>ohe_categirical_encoder__street_Мічуріна ohe_categirical_encoder__street_Саксаганського</th>\n",
       "      <th>ohe_categirical_encoder__street_Мічуріна numeric_encoder__rooms</th>\n",
       "      <th>...</th>\n",
       "      <th>numeric_encoder__price_per_m2^2</th>\n",
       "      <th>numeric_encoder__price_per_m2 numeric_encoder__area_total</th>\n",
       "      <th>numeric_encoder__price_per_m2 numeric_encoder__area_living</th>\n",
       "      <th>numeric_encoder__price_per_m2 numeric_encoder__area_comfort</th>\n",
       "      <th>numeric_encoder__area_total^2</th>\n",
       "      <th>numeric_encoder__area_total numeric_encoder__area_living</th>\n",
       "      <th>numeric_encoder__area_total numeric_encoder__area_comfort</th>\n",
       "      <th>numeric_encoder__area_living^2</th>\n",
       "      <th>numeric_encoder__area_living numeric_encoder__area_comfort</th>\n",
       "      <th>numeric_encoder__area_comfort^2</th>\n",
       "    </tr>\n",
       "  </thead>\n",
       "  <tbody>\n",
       "    <tr>\n",
       "      <th>0</th>\n",
       "      <td>0.0</td>\n",
       "      <td>0.0</td>\n",
       "      <td>-1.125471</td>\n",
       "      <td>-0.139455</td>\n",
       "      <td>-1.048667</td>\n",
       "      <td>-1.011456</td>\n",
       "      <td>-0.424751</td>\n",
       "      <td>0.0</td>\n",
       "      <td>0.0</td>\n",
       "      <td>-0.0</td>\n",
       "      <td>...</td>\n",
       "      <td>0.019448</td>\n",
       "      <td>0.146242</td>\n",
       "      <td>0.141053</td>\n",
       "      <td>0.059234</td>\n",
       "      <td>1.099702</td>\n",
       "      <td>1.060681</td>\n",
       "      <td>0.445422</td>\n",
       "      <td>1.023044</td>\n",
       "      <td>0.429617</td>\n",
       "      <td>0.180414</td>\n",
       "    </tr>\n",
       "    <tr>\n",
       "      <th>1</th>\n",
       "      <td>0.0</td>\n",
       "      <td>0.0</td>\n",
       "      <td>-0.160089</td>\n",
       "      <td>-0.117124</td>\n",
       "      <td>-0.287044</td>\n",
       "      <td>-0.148058</td>\n",
       "      <td>-0.315639</td>\n",
       "      <td>0.0</td>\n",
       "      <td>0.0</td>\n",
       "      <td>-0.0</td>\n",
       "      <td>...</td>\n",
       "      <td>0.013718</td>\n",
       "      <td>0.033620</td>\n",
       "      <td>0.017341</td>\n",
       "      <td>0.036969</td>\n",
       "      <td>0.082394</td>\n",
       "      <td>0.042499</td>\n",
       "      <td>0.090602</td>\n",
       "      <td>0.021921</td>\n",
       "      <td>0.046733</td>\n",
       "      <td>0.099628</td>\n",
       "    </tr>\n",
       "    <tr>\n",
       "      <th>2</th>\n",
       "      <td>0.0</td>\n",
       "      <td>0.0</td>\n",
       "      <td>-0.160089</td>\n",
       "      <td>-0.015546</td>\n",
       "      <td>-0.265888</td>\n",
       "      <td>-0.579757</td>\n",
       "      <td>0.011697</td>\n",
       "      <td>0.0</td>\n",
       "      <td>0.0</td>\n",
       "      <td>-0.0</td>\n",
       "      <td>...</td>\n",
       "      <td>0.000242</td>\n",
       "      <td>0.004133</td>\n",
       "      <td>0.009013</td>\n",
       "      <td>-0.000182</td>\n",
       "      <td>0.070696</td>\n",
       "      <td>0.154150</td>\n",
       "      <td>-0.003110</td>\n",
       "      <td>0.336118</td>\n",
       "      <td>-0.006781</td>\n",
       "      <td>0.000137</td>\n",
       "    </tr>\n",
       "    <tr>\n",
       "      <th>3</th>\n",
       "      <td>0.0</td>\n",
       "      <td>0.0</td>\n",
       "      <td>-0.160089</td>\n",
       "      <td>-0.118144</td>\n",
       "      <td>-0.244731</td>\n",
       "      <td>-0.148058</td>\n",
       "      <td>-0.388380</td>\n",
       "      <td>0.0</td>\n",
       "      <td>0.0</td>\n",
       "      <td>-0.0</td>\n",
       "      <td>...</td>\n",
       "      <td>0.013958</td>\n",
       "      <td>0.028914</td>\n",
       "      <td>0.017492</td>\n",
       "      <td>0.045885</td>\n",
       "      <td>0.059893</td>\n",
       "      <td>0.036234</td>\n",
       "      <td>0.095049</td>\n",
       "      <td>0.021921</td>\n",
       "      <td>0.057503</td>\n",
       "      <td>0.150839</td>\n",
       "    </tr>\n",
       "    <tr>\n",
       "      <th>4</th>\n",
       "      <td>0.0</td>\n",
       "      <td>0.0</td>\n",
       "      <td>-1.125471</td>\n",
       "      <td>-0.105013</td>\n",
       "      <td>-0.985198</td>\n",
       "      <td>-0.148058</td>\n",
       "      <td>-0.788458</td>\n",
       "      <td>0.0</td>\n",
       "      <td>0.0</td>\n",
       "      <td>-0.0</td>\n",
       "      <td>...</td>\n",
       "      <td>0.011028</td>\n",
       "      <td>0.103459</td>\n",
       "      <td>0.015548</td>\n",
       "      <td>0.082799</td>\n",
       "      <td>0.970615</td>\n",
       "      <td>0.145866</td>\n",
       "      <td>0.776787</td>\n",
       "      <td>0.021921</td>\n",
       "      <td>0.116737</td>\n",
       "      <td>0.621666</td>\n",
       "    </tr>\n",
       "    <tr>\n",
       "      <th>...</th>\n",
       "      <td>...</td>\n",
       "      <td>...</td>\n",
       "      <td>...</td>\n",
       "      <td>...</td>\n",
       "      <td>...</td>\n",
       "      <td>...</td>\n",
       "      <td>...</td>\n",
       "      <td>...</td>\n",
       "      <td>...</td>\n",
       "      <td>...</td>\n",
       "      <td>...</td>\n",
       "      <td>...</td>\n",
       "      <td>...</td>\n",
       "      <td>...</td>\n",
       "      <td>...</td>\n",
       "      <td>...</td>\n",
       "      <td>...</td>\n",
       "      <td>...</td>\n",
       "      <td>...</td>\n",
       "      <td>...</td>\n",
       "      <td>...</td>\n",
       "    </tr>\n",
       "    <tr>\n",
       "      <th>393</th>\n",
       "      <td>0.0</td>\n",
       "      <td>0.0</td>\n",
       "      <td>-0.160089</td>\n",
       "      <td>-0.153237</td>\n",
       "      <td>-0.731324</td>\n",
       "      <td>-0.435857</td>\n",
       "      <td>-0.788458</td>\n",
       "      <td>0.0</td>\n",
       "      <td>0.0</td>\n",
       "      <td>-0.0</td>\n",
       "      <td>...</td>\n",
       "      <td>0.023482</td>\n",
       "      <td>0.112066</td>\n",
       "      <td>0.066790</td>\n",
       "      <td>0.120821</td>\n",
       "      <td>0.534835</td>\n",
       "      <td>0.318753</td>\n",
       "      <td>0.576618</td>\n",
       "      <td>0.189972</td>\n",
       "      <td>0.343655</td>\n",
       "      <td>0.621666</td>\n",
       "    </tr>\n",
       "    <tr>\n",
       "      <th>394</th>\n",
       "      <td>0.0</td>\n",
       "      <td>0.0</td>\n",
       "      <td>-1.125471</td>\n",
       "      <td>0.052981</td>\n",
       "      <td>-0.710168</td>\n",
       "      <td>-0.975481</td>\n",
       "      <td>-0.461122</td>\n",
       "      <td>0.0</td>\n",
       "      <td>0.0</td>\n",
       "      <td>-0.0</td>\n",
       "      <td>...</td>\n",
       "      <td>0.002807</td>\n",
       "      <td>-0.037625</td>\n",
       "      <td>-0.051682</td>\n",
       "      <td>-0.024431</td>\n",
       "      <td>0.504338</td>\n",
       "      <td>0.692755</td>\n",
       "      <td>0.327474</td>\n",
       "      <td>0.951564</td>\n",
       "      <td>0.449816</td>\n",
       "      <td>0.212633</td>\n",
       "    </tr>\n",
       "    <tr>\n",
       "      <th>395</th>\n",
       "      <td>0.0</td>\n",
       "      <td>0.0</td>\n",
       "      <td>-1.125471</td>\n",
       "      <td>-0.134223</td>\n",
       "      <td>-0.921730</td>\n",
       "      <td>-0.831582</td>\n",
       "      <td>-0.497492</td>\n",
       "      <td>0.0</td>\n",
       "      <td>0.0</td>\n",
       "      <td>-0.0</td>\n",
       "      <td>...</td>\n",
       "      <td>0.018016</td>\n",
       "      <td>0.123718</td>\n",
       "      <td>0.111618</td>\n",
       "      <td>0.066775</td>\n",
       "      <td>0.849585</td>\n",
       "      <td>0.766493</td>\n",
       "      <td>0.458554</td>\n",
       "      <td>0.691528</td>\n",
       "      <td>0.413706</td>\n",
       "      <td>0.247499</td>\n",
       "    </tr>\n",
       "    <tr>\n",
       "      <th>396</th>\n",
       "      <td>0.0</td>\n",
       "      <td>0.0</td>\n",
       "      <td>0.805294</td>\n",
       "      <td>-0.135755</td>\n",
       "      <td>-0.181263</td>\n",
       "      <td>-0.148058</td>\n",
       "      <td>-0.133786</td>\n",
       "      <td>0.0</td>\n",
       "      <td>0.0</td>\n",
       "      <td>0.0</td>\n",
       "      <td>...</td>\n",
       "      <td>0.018429</td>\n",
       "      <td>0.024607</td>\n",
       "      <td>0.020100</td>\n",
       "      <td>0.018162</td>\n",
       "      <td>0.032856</td>\n",
       "      <td>0.026837</td>\n",
       "      <td>0.024250</td>\n",
       "      <td>0.021921</td>\n",
       "      <td>0.019808</td>\n",
       "      <td>0.017899</td>\n",
       "    </tr>\n",
       "    <tr>\n",
       "      <th>397</th>\n",
       "      <td>0.0</td>\n",
       "      <td>0.0</td>\n",
       "      <td>-0.160089</td>\n",
       "      <td>-0.036219</td>\n",
       "      <td>-0.646699</td>\n",
       "      <td>-0.867557</td>\n",
       "      <td>-0.424751</td>\n",
       "      <td>0.0</td>\n",
       "      <td>0.0</td>\n",
       "      <td>-0.0</td>\n",
       "      <td>...</td>\n",
       "      <td>0.001312</td>\n",
       "      <td>0.023422</td>\n",
       "      <td>0.031422</td>\n",
       "      <td>0.015384</td>\n",
       "      <td>0.418220</td>\n",
       "      <td>0.561048</td>\n",
       "      <td>0.274686</td>\n",
       "      <td>0.752654</td>\n",
       "      <td>0.368496</td>\n",
       "      <td>0.180414</td>\n",
       "    </tr>\n",
       "  </tbody>\n",
       "</table>\n",
       "<p>398 rows × 35 columns</p>\n",
       "</div>"
      ],
      "text/plain": [
       "     ohe_categirical_encoder__street_Мічуріна  \\\n",
       "0                                         0.0   \n",
       "1                                         0.0   \n",
       "2                                         0.0   \n",
       "3                                         0.0   \n",
       "4                                         0.0   \n",
       "..                                        ...   \n",
       "393                                       0.0   \n",
       "394                                       0.0   \n",
       "395                                       0.0   \n",
       "396                                       0.0   \n",
       "397                                       0.0   \n",
       "\n",
       "     ohe_categirical_encoder__street_Саксаганського  numeric_encoder__rooms  \\\n",
       "0                                               0.0               -1.125471   \n",
       "1                                               0.0               -0.160089   \n",
       "2                                               0.0               -0.160089   \n",
       "3                                               0.0               -0.160089   \n",
       "4                                               0.0               -1.125471   \n",
       "..                                              ...                     ...   \n",
       "393                                             0.0               -0.160089   \n",
       "394                                             0.0               -1.125471   \n",
       "395                                             0.0               -1.125471   \n",
       "396                                             0.0                0.805294   \n",
       "397                                             0.0               -0.160089   \n",
       "\n",
       "     numeric_encoder__price_per_m2  numeric_encoder__area_total  \\\n",
       "0                        -0.139455                    -1.048667   \n",
       "1                        -0.117124                    -0.287044   \n",
       "2                        -0.015546                    -0.265888   \n",
       "3                        -0.118144                    -0.244731   \n",
       "4                        -0.105013                    -0.985198   \n",
       "..                             ...                          ...   \n",
       "393                      -0.153237                    -0.731324   \n",
       "394                       0.052981                    -0.710168   \n",
       "395                      -0.134223                    -0.921730   \n",
       "396                      -0.135755                    -0.181263   \n",
       "397                      -0.036219                    -0.646699   \n",
       "\n",
       "     numeric_encoder__area_living  numeric_encoder__area_comfort  \\\n",
       "0                       -1.011456                      -0.424751   \n",
       "1                       -0.148058                      -0.315639   \n",
       "2                       -0.579757                       0.011697   \n",
       "3                       -0.148058                      -0.388380   \n",
       "4                       -0.148058                      -0.788458   \n",
       "..                            ...                            ...   \n",
       "393                     -0.435857                      -0.788458   \n",
       "394                     -0.975481                      -0.461122   \n",
       "395                     -0.831582                      -0.497492   \n",
       "396                     -0.148058                      -0.133786   \n",
       "397                     -0.867557                      -0.424751   \n",
       "\n",
       "     ohe_categirical_encoder__street_Мічуріна^2  \\\n",
       "0                                           0.0   \n",
       "1                                           0.0   \n",
       "2                                           0.0   \n",
       "3                                           0.0   \n",
       "4                                           0.0   \n",
       "..                                          ...   \n",
       "393                                         0.0   \n",
       "394                                         0.0   \n",
       "395                                         0.0   \n",
       "396                                         0.0   \n",
       "397                                         0.0   \n",
       "\n",
       "     ohe_categirical_encoder__street_Мічуріна ohe_categirical_encoder__street_Саксаганського  \\\n",
       "0                                                  0.0                                         \n",
       "1                                                  0.0                                         \n",
       "2                                                  0.0                                         \n",
       "3                                                  0.0                                         \n",
       "4                                                  0.0                                         \n",
       "..                                                 ...                                         \n",
       "393                                                0.0                                         \n",
       "394                                                0.0                                         \n",
       "395                                                0.0                                         \n",
       "396                                                0.0                                         \n",
       "397                                                0.0                                         \n",
       "\n",
       "     ohe_categirical_encoder__street_Мічуріна numeric_encoder__rooms  ...  \\\n",
       "0                                                 -0.0                ...   \n",
       "1                                                 -0.0                ...   \n",
       "2                                                 -0.0                ...   \n",
       "3                                                 -0.0                ...   \n",
       "4                                                 -0.0                ...   \n",
       "..                                                 ...                ...   \n",
       "393                                               -0.0                ...   \n",
       "394                                               -0.0                ...   \n",
       "395                                               -0.0                ...   \n",
       "396                                                0.0                ...   \n",
       "397                                               -0.0                ...   \n",
       "\n",
       "     numeric_encoder__price_per_m2^2  \\\n",
       "0                           0.019448   \n",
       "1                           0.013718   \n",
       "2                           0.000242   \n",
       "3                           0.013958   \n",
       "4                           0.011028   \n",
       "..                               ...   \n",
       "393                         0.023482   \n",
       "394                         0.002807   \n",
       "395                         0.018016   \n",
       "396                         0.018429   \n",
       "397                         0.001312   \n",
       "\n",
       "     numeric_encoder__price_per_m2 numeric_encoder__area_total  \\\n",
       "0                                             0.146242           \n",
       "1                                             0.033620           \n",
       "2                                             0.004133           \n",
       "3                                             0.028914           \n",
       "4                                             0.103459           \n",
       "..                                                 ...           \n",
       "393                                           0.112066           \n",
       "394                                          -0.037625           \n",
       "395                                           0.123718           \n",
       "396                                           0.024607           \n",
       "397                                           0.023422           \n",
       "\n",
       "     numeric_encoder__price_per_m2 numeric_encoder__area_living  \\\n",
       "0                                             0.141053            \n",
       "1                                             0.017341            \n",
       "2                                             0.009013            \n",
       "3                                             0.017492            \n",
       "4                                             0.015548            \n",
       "..                                                 ...            \n",
       "393                                           0.066790            \n",
       "394                                          -0.051682            \n",
       "395                                           0.111618            \n",
       "396                                           0.020100            \n",
       "397                                           0.031422            \n",
       "\n",
       "     numeric_encoder__price_per_m2 numeric_encoder__area_comfort  \\\n",
       "0                                             0.059234             \n",
       "1                                             0.036969             \n",
       "2                                            -0.000182             \n",
       "3                                             0.045885             \n",
       "4                                             0.082799             \n",
       "..                                                 ...             \n",
       "393                                           0.120821             \n",
       "394                                          -0.024431             \n",
       "395                                           0.066775             \n",
       "396                                           0.018162             \n",
       "397                                           0.015384             \n",
       "\n",
       "     numeric_encoder__area_total^2  \\\n",
       "0                         1.099702   \n",
       "1                         0.082394   \n",
       "2                         0.070696   \n",
       "3                         0.059893   \n",
       "4                         0.970615   \n",
       "..                             ...   \n",
       "393                       0.534835   \n",
       "394                       0.504338   \n",
       "395                       0.849585   \n",
       "396                       0.032856   \n",
       "397                       0.418220   \n",
       "\n",
       "     numeric_encoder__area_total numeric_encoder__area_living  \\\n",
       "0                                             1.060681          \n",
       "1                                             0.042499          \n",
       "2                                             0.154150          \n",
       "3                                             0.036234          \n",
       "4                                             0.145866          \n",
       "..                                                 ...          \n",
       "393                                           0.318753          \n",
       "394                                           0.692755          \n",
       "395                                           0.766493          \n",
       "396                                           0.026837          \n",
       "397                                           0.561048          \n",
       "\n",
       "     numeric_encoder__area_total numeric_encoder__area_comfort  \\\n",
       "0                                             0.445422           \n",
       "1                                             0.090602           \n",
       "2                                            -0.003110           \n",
       "3                                             0.095049           \n",
       "4                                             0.776787           \n",
       "..                                                 ...           \n",
       "393                                           0.576618           \n",
       "394                                           0.327474           \n",
       "395                                           0.458554           \n",
       "396                                           0.024250           \n",
       "397                                           0.274686           \n",
       "\n",
       "     numeric_encoder__area_living^2  \\\n",
       "0                          1.023044   \n",
       "1                          0.021921   \n",
       "2                          0.336118   \n",
       "3                          0.021921   \n",
       "4                          0.021921   \n",
       "..                              ...   \n",
       "393                        0.189972   \n",
       "394                        0.951564   \n",
       "395                        0.691528   \n",
       "396                        0.021921   \n",
       "397                        0.752654   \n",
       "\n",
       "     numeric_encoder__area_living numeric_encoder__area_comfort  \\\n",
       "0                                             0.429617            \n",
       "1                                             0.046733            \n",
       "2                                            -0.006781            \n",
       "3                                             0.057503            \n",
       "4                                             0.116737            \n",
       "..                                                 ...            \n",
       "393                                           0.343655            \n",
       "394                                           0.449816            \n",
       "395                                           0.413706            \n",
       "396                                           0.019808            \n",
       "397                                           0.368496            \n",
       "\n",
       "     numeric_encoder__area_comfort^2  \n",
       "0                           0.180414  \n",
       "1                           0.099628  \n",
       "2                           0.000137  \n",
       "3                           0.150839  \n",
       "4                           0.621666  \n",
       "..                               ...  \n",
       "393                         0.621666  \n",
       "394                         0.212633  \n",
       "395                         0.247499  \n",
       "396                         0.017899  \n",
       "397                         0.180414  \n",
       "\n",
       "[398 rows x 35 columns]"
      ]
     },
     "execution_count": 36,
     "metadata": {},
     "output_type": "execute_result"
    }
   ],
   "source": [
    "# побудувати датасет на визначеному поліномі `poly`\n",
    "data_poly = pd.DataFrame(data_poly, columns = poly_features_names)\n",
    "data_poly"
   ]
  },
  {
   "cell_type": "code",
   "execution_count": 37,
   "id": "f1b7d2f9",
   "metadata": {},
   "outputs": [],
   "source": [
    "# отримати результати крос-валідації на множинном регресорі `lr` по параметрам 'neg_mean_absolute_percentage_error' \n",
    "# та 'r2' на 10 сплітах передбачивши розрахунок на навчальному наборі 'return_train_score'\n",
    "cv_results_poly = cross_validate(lr, data, price, cv = 10,\n",
    "                         scoring = ('r2', 'neg_mean_absolute_percentage_error'),\n",
    "                         return_train_score = True)"
   ]
  },
  {
   "cell_type": "code",
   "execution_count": 38,
   "id": "02761153",
   "metadata": {},
   "outputs": [
    {
     "data": {
      "text/html": [
       "<div>\n",
       "<style scoped>\n",
       "    .dataframe tbody tr th:only-of-type {\n",
       "        vertical-align: middle;\n",
       "    }\n",
       "\n",
       "    .dataframe tbody tr th {\n",
       "        vertical-align: top;\n",
       "    }\n",
       "\n",
       "    .dataframe thead th {\n",
       "        text-align: right;\n",
       "    }\n",
       "</style>\n",
       "<table border=\"1\" class=\"dataframe\">\n",
       "  <thead>\n",
       "    <tr style=\"text-align: right;\">\n",
       "      <th></th>\n",
       "      <th>помилка тесту в %</th>\n",
       "      <th>коєф. R2 тесту</th>\n",
       "      <th>помилка навчання в %</th>\n",
       "      <th>коєф. R2 навчання</th>\n",
       "    </tr>\n",
       "  </thead>\n",
       "  <tbody>\n",
       "    <tr>\n",
       "      <th>0</th>\n",
       "      <td>-0.391580</td>\n",
       "      <td>0.980588</td>\n",
       "      <td>-0.475435</td>\n",
       "      <td>0.866733</td>\n",
       "    </tr>\n",
       "    <tr>\n",
       "      <th>1</th>\n",
       "      <td>-0.526764</td>\n",
       "      <td>0.631274</td>\n",
       "      <td>-0.437881</td>\n",
       "      <td>0.985897</td>\n",
       "    </tr>\n",
       "    <tr>\n",
       "      <th>2</th>\n",
       "      <td>-0.385269</td>\n",
       "      <td>0.866260</td>\n",
       "      <td>-0.426024</td>\n",
       "      <td>0.986208</td>\n",
       "    </tr>\n",
       "    <tr>\n",
       "      <th>3</th>\n",
       "      <td>-0.557975</td>\n",
       "      <td>0.762530</td>\n",
       "      <td>-0.434469</td>\n",
       "      <td>0.986042</td>\n",
       "    </tr>\n",
       "    <tr>\n",
       "      <th>4</th>\n",
       "      <td>-0.332169</td>\n",
       "      <td>0.862515</td>\n",
       "      <td>-0.452417</td>\n",
       "      <td>0.985995</td>\n",
       "    </tr>\n",
       "  </tbody>\n",
       "</table>\n",
       "</div>"
      ],
      "text/plain": [
       "   помилка тесту в %  коєф. R2 тесту  помилка навчання в %  коєф. R2 навчання\n",
       "0          -0.391580        0.980588             -0.475435           0.866733\n",
       "1          -0.526764        0.631274             -0.437881           0.985897\n",
       "2          -0.385269        0.866260             -0.426024           0.986208\n",
       "3          -0.557975        0.762530             -0.434469           0.986042\n",
       "4          -0.332169        0.862515             -0.452417           0.985995"
      ]
     },
     "execution_count": 38,
     "metadata": {},
     "output_type": "execute_result"
    }
   ],
   "source": [
    "# занести результати крос-валідації: помилка тесту, помилка навчання та відповідні коефіцієнти \n",
    "# детермінаційї в датафрейм `cv_results_poly`. \n",
    "cv_results_poly = pd.DataFrame({'помилка тесту в %': cv_results_poly['test_neg_mean_absolute_percentage_error'],\n",
    "                              'коєф. R2 тесту': cv_results_poly['test_r2'],\n",
    "                              'помилка навчання в %': cv_results_poly['train_neg_mean_absolute_percentage_error'],\n",
    "                              'коєф. R2 навчання': cv_results_poly['train_r2']})\n",
    "\n",
    "cv_results_poly.head()"
   ]
  },
  {
   "cell_type": "code",
   "execution_count": 39,
   "id": "e952830a",
   "metadata": {},
   "outputs": [],
   "source": [
    "# за допомогою крос-валідатора 'cross_val_predict' побудувати прогноз 'price_pred' \n",
    "# на лінійному регресорі на 10 сплітах\n",
    "from sklearn.model_selection import cross_val_predict\n",
    "\n",
    "price_pred = cross_val_predict(lr, data_poly, price, cv=10)"
   ]
  },
  {
   "cell_type": "code",
   "execution_count": 40,
   "id": "ddc4e7e8",
   "metadata": {
    "scrolled": false
   },
   "outputs": [
    {
     "data": {
      "text/html": [
       "<div>\n",
       "<style scoped>\n",
       "    .dataframe tbody tr th:only-of-type {\n",
       "        vertical-align: middle;\n",
       "    }\n",
       "\n",
       "    .dataframe tbody tr th {\n",
       "        vertical-align: top;\n",
       "    }\n",
       "\n",
       "    .dataframe thead th {\n",
       "        text-align: right;\n",
       "    }\n",
       "</style>\n",
       "<table border=\"1\" class=\"dataframe\">\n",
       "  <thead>\n",
       "    <tr style=\"text-align: right;\">\n",
       "      <th></th>\n",
       "      <th>ціна реальна</th>\n",
       "      <th>ціна прогнозна</th>\n",
       "    </tr>\n",
       "  </thead>\n",
       "  <tbody>\n",
       "    <tr>\n",
       "      <th>0</th>\n",
       "      <td>30970.0</td>\n",
       "      <td>26005.0</td>\n",
       "    </tr>\n",
       "    <tr>\n",
       "      <th>1</th>\n",
       "      <td>82000.0</td>\n",
       "      <td>85817.0</td>\n",
       "    </tr>\n",
       "    <tr>\n",
       "      <th>2</th>\n",
       "      <td>135000.0</td>\n",
       "      <td>145004.0</td>\n",
       "    </tr>\n",
       "    <tr>\n",
       "      <th>3</th>\n",
       "      <td>84000.0</td>\n",
       "      <td>88670.0</td>\n",
       "    </tr>\n",
       "    <tr>\n",
       "      <th>4</th>\n",
       "      <td>42654.8</td>\n",
       "      <td>40388.0</td>\n",
       "    </tr>\n",
       "  </tbody>\n",
       "</table>\n",
       "</div>"
      ],
      "text/plain": [
       "   ціна реальна  ціна прогнозна\n",
       "0       30970.0         26005.0\n",
       "1       82000.0         85817.0\n",
       "2      135000.0        145004.0\n",
       "3       84000.0         88670.0\n",
       "4       42654.8         40388.0"
      ]
     },
     "execution_count": 40,
     "metadata": {},
     "output_type": "execute_result"
    }
   ],
   "source": [
    "# вивести порівняльну таблицю з двох колонок: ціна реальна, ціна прогнозна\n",
    "pred = pd.DataFrame({'ціна реальна': price,\n",
    "                     'ціна прогнозна': np.round(price_pred)})\n",
    "pred.head(5)"
   ]
  },
  {
   "cell_type": "code",
   "execution_count": 42,
   "id": "b6da2c2a",
   "metadata": {},
   "outputs": [
    {
     "data": {
      "text/html": [
       "<style>#sk-container-id-3 {color: black;background-color: white;}#sk-container-id-3 pre{padding: 0;}#sk-container-id-3 div.sk-toggleable {background-color: white;}#sk-container-id-3 label.sk-toggleable__label {cursor: pointer;display: block;width: 100%;margin-bottom: 0;padding: 0.3em;box-sizing: border-box;text-align: center;}#sk-container-id-3 label.sk-toggleable__label-arrow:before {content: \"▸\";float: left;margin-right: 0.25em;color: #696969;}#sk-container-id-3 label.sk-toggleable__label-arrow:hover:before {color: black;}#sk-container-id-3 div.sk-estimator:hover label.sk-toggleable__label-arrow:before {color: black;}#sk-container-id-3 div.sk-toggleable__content {max-height: 0;max-width: 0;overflow: hidden;text-align: left;background-color: #f0f8ff;}#sk-container-id-3 div.sk-toggleable__content pre {margin: 0.2em;color: black;border-radius: 0.25em;background-color: #f0f8ff;}#sk-container-id-3 input.sk-toggleable__control:checked~div.sk-toggleable__content {max-height: 200px;max-width: 100%;overflow: auto;}#sk-container-id-3 input.sk-toggleable__control:checked~label.sk-toggleable__label-arrow:before {content: \"▾\";}#sk-container-id-3 div.sk-estimator input.sk-toggleable__control:checked~label.sk-toggleable__label {background-color: #d4ebff;}#sk-container-id-3 div.sk-label input.sk-toggleable__control:checked~label.sk-toggleable__label {background-color: #d4ebff;}#sk-container-id-3 input.sk-hidden--visually {border: 0;clip: rect(1px 1px 1px 1px);clip: rect(1px, 1px, 1px, 1px);height: 1px;margin: -1px;overflow: hidden;padding: 0;position: absolute;width: 1px;}#sk-container-id-3 div.sk-estimator {font-family: monospace;background-color: #f0f8ff;border: 1px dotted black;border-radius: 0.25em;box-sizing: border-box;margin-bottom: 0.5em;}#sk-container-id-3 div.sk-estimator:hover {background-color: #d4ebff;}#sk-container-id-3 div.sk-parallel-item::after {content: \"\";width: 100%;border-bottom: 1px solid gray;flex-grow: 1;}#sk-container-id-3 div.sk-label:hover label.sk-toggleable__label {background-color: #d4ebff;}#sk-container-id-3 div.sk-serial::before {content: \"\";position: absolute;border-left: 1px solid gray;box-sizing: border-box;top: 0;bottom: 0;left: 50%;z-index: 0;}#sk-container-id-3 div.sk-serial {display: flex;flex-direction: column;align-items: center;background-color: white;padding-right: 0.2em;padding-left: 0.2em;position: relative;}#sk-container-id-3 div.sk-item {position: relative;z-index: 1;}#sk-container-id-3 div.sk-parallel {display: flex;align-items: stretch;justify-content: center;background-color: white;position: relative;}#sk-container-id-3 div.sk-item::before, #sk-container-id-3 div.sk-parallel-item::before {content: \"\";position: absolute;border-left: 1px solid gray;box-sizing: border-box;top: 0;bottom: 0;left: 50%;z-index: -1;}#sk-container-id-3 div.sk-parallel-item {display: flex;flex-direction: column;z-index: 1;position: relative;background-color: white;}#sk-container-id-3 div.sk-parallel-item:first-child::after {align-self: flex-end;width: 50%;}#sk-container-id-3 div.sk-parallel-item:last-child::after {align-self: flex-start;width: 50%;}#sk-container-id-3 div.sk-parallel-item:only-child::after {width: 0;}#sk-container-id-3 div.sk-dashed-wrapped {border: 1px dashed gray;margin: 0 0.4em 0.5em 0.4em;box-sizing: border-box;padding-bottom: 0.4em;background-color: white;}#sk-container-id-3 div.sk-label label {font-family: monospace;font-weight: bold;display: inline-block;line-height: 1.2em;}#sk-container-id-3 div.sk-label-container {text-align: center;}#sk-container-id-3 div.sk-container {/* jupyter's `normalize.less` sets `[hidden] { display: none; }` but bootstrap.min.css set `[hidden] { display: none !important; }` so we also need the `!important` here to be able to override the default hidden behavior on the sphinx rendered scikit-learn.org. See: https://github.com/scikit-learn/scikit-learn/issues/21755 */display: inline-block !important;position: relative;}#sk-container-id-3 div.sk-text-repr-fallback {display: none;}</style><div id=\"sk-container-id-3\" class=\"sk-top-container\"><div class=\"sk-text-repr-fallback\"><pre>LinearRegression()</pre><b>In a Jupyter environment, please rerun this cell to show the HTML representation or trust the notebook. <br />On GitHub, the HTML representation is unable to render, please try loading this page with nbviewer.org.</b></div><div class=\"sk-container\" hidden><div class=\"sk-item\"><div class=\"sk-estimator sk-toggleable\"><input class=\"sk-toggleable__control sk-hidden--visually\" id=\"sk-estimator-id-5\" type=\"checkbox\" checked><label for=\"sk-estimator-id-5\" class=\"sk-toggleable__label sk-toggleable__label-arrow\">LinearRegression</label><div class=\"sk-toggleable__content\"><pre>LinearRegression()</pre></div></div></div></div></div>"
      ],
      "text/plain": [
       "LinearRegression()"
      ]
     },
     "execution_count": 42,
     "metadata": {},
     "output_type": "execute_result"
    }
   ],
   "source": [
    "# натренувати регресор `lr` на поліноміальних ознаках `data_poly`\n",
    "lr.fit(data_poly, price)"
   ]
  },
  {
   "cell_type": "code",
   "execution_count": 43,
   "id": "a9e3c1b8",
   "metadata": {},
   "outputs": [],
   "source": [
    "# сформувати таблицю коєфіцієнтів поліному\n",
    "coef = pd.DataFrame({'Ознаки': poly_features_names,\n",
    "                     'коеф.регресора': lr.coef_.astype('int')})"
   ]
  },
  {
   "cell_type": "markdown",
   "id": "815a5d54",
   "metadata": {},
   "source": [
    "### Висновки\n",
    "\n",
    "_Базуючись на значенях метрик абсолютної помилки та r2-оцінки, сформулювати вашу думку чи відповідає поліноміальна модель вимогам якості та дати характеристику декільком коефіцієнтам (3-4) на свій вибір._ \n",
    "\n",
    "Модель з поліноміальною регресією має кращі показники порівняно з іншими двома моделями. Абсолютна помилка значно зменшилась порівняно з простою лінійною регресією, тоді як значення r2 збільшилось."
   ]
  },
  {
   "cell_type": "markdown",
   "id": "29f6d1f5",
   "metadata": {},
   "source": [
    "## 5. Зберігання побудованх моделей"
   ]
  },
  {
   "cell_type": "code",
   "execution_count": 44,
   "id": "6bbe7ad0",
   "metadata": {},
   "outputs": [],
   "source": [
    "# зберегти лінийну, гребневу та поліноміальну моделі у відпрвідних pickle-файлах:\n",
    "# 'lin_model.pkl', 'ridge_model.pkl', 'poly_model.pkl'\n",
    "import pickle\n",
    "\n",
    "model_names = ['lin_model.pkl', 'ridge_model.pkl', 'poly_model.pkl']\n",
    "models = [lr, ridge, poly]\n",
    "\n",
    "for i in range(len(model_names)):\n",
    "    with open(model_names[i], 'wb') as f:\n",
    "        pickle.dump(models[i], f)"
   ]
  }
 ],
 "metadata": {
  "kernelspec": {
   "display_name": "Python 3 (ipykernel)",
   "language": "python",
   "name": "python3"
  },
  "language_info": {
   "codemirror_mode": {
    "name": "ipython",
    "version": 3
   },
   "file_extension": ".py",
   "mimetype": "text/x-python",
   "name": "python",
   "nbconvert_exporter": "python",
   "pygments_lexer": "ipython3",
   "version": "3.8.16"
  },
  "varInspector": {
   "cols": {
    "lenName": 16,
    "lenType": 16,
    "lenVar": 40
   },
   "kernels_config": {
    "python": {
     "delete_cmd_postfix": "",
     "delete_cmd_prefix": "del ",
     "library": "var_list.py",
     "varRefreshCmd": "print(var_dic_list())"
    },
    "r": {
     "delete_cmd_postfix": ") ",
     "delete_cmd_prefix": "rm(",
     "library": "var_list.r",
     "varRefreshCmd": "cat(var_dic_list()) "
    }
   },
   "types_to_exclude": [
    "module",
    "function",
    "builtin_function_or_method",
    "instance",
    "_Feature"
   ],
   "window_display": false
  }
 },
 "nbformat": 4,
 "nbformat_minor": 5
}
