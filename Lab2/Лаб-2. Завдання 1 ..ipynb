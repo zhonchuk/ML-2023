{
 "cells": [
  {
   "cell_type": "markdown",
   "metadata": {},
   "source": [
    "#  Лабораторна робота №2\n",
    "### навчально-методичний додаток\n",
    "***"
   ]
  },
  {
   "cell_type": "markdown",
   "metadata": {},
   "source": [
    "## Завдання №1 \" Конструкції Python\"\n",
    "- заповнити пусті рядки вашим рішенням"
   ]
  },
  {
   "cell_type": "markdown",
   "metadata": {},
   "source": [
    "### Змінні\n",
    "\n",
    "Ім'я, яке використовується для позначення чогось або значення, називається **змінною**. У python можна оголошувати змінні і присвоювати йому значення наступним чином:\n",
    "\n",
    "- x = 10             \n",
    "- y = -3.1428         \n",
    "- s = \"Вася Пупкін\"\n",
    "- a = [x, y, s]\n",
    "- b = False\n",
    "- t = (y, \"Студент\")\n",
    "\n",
    "---\n",
    "_[Прочитати про типи даних](https://uk.education-wiki.com/2923901-python-data-types)_\n",
    "\n",
    "Тип даних можна перевірити наступною інструкцією: `type(<імя змінної>)`"
   ]
  },
  {
   "cell_type": "code",
   "execution_count": 8,
   "metadata": {
    "run_control": {
     "marked": false
    }
   },
   "outputs": [
    {
     "name": "stdout",
     "output_type": "stream",
     "text": [
      "x = <class 'int'>\n",
      "y = <class 'float'>\n",
      "s = <class 'str'>\n",
      "a = <class 'list'>\n",
      "b = <class 'bool'>\n",
      "t = <class 'tuple'>\n"
     ]
    }
   ],
   "source": [
    "x = 10\n",
    "y = -3.1428\n",
    "s = \"Вася Пупкін\"\n",
    "a = [x, y, s]\n",
    "b = False\n",
    "t = (y, \"Студент\")\n",
    "\n",
    "print('x =',type(x))\n",
    "print('y =',type(y))\n",
    "print('s =',type(s))\n",
    "print('a =',type(a))\n",
    "print('b =',type(b))\n",
    "print('t =',type(t))"
   ]
  },
  {
   "cell_type": "markdown",
   "metadata": {
    "heading_collapsed": true
   },
   "source": [
    "### Опрератори\n",
    "\n",
    "#### арифметичні\n",
    "\n",
    "| Позначка | Виконує |\n",
    "|----|---|\n",
    "| +  | Додавання |\n",
    "| -  | Віднімання |\n",
    "| /  | поділ |\n",
    "| %  | остаток від ділення |\n",
    "| *  | множення |\n",
    "| //  | цілочісельне ділення |\n",
    "| **  | ступінь |"
   ]
  },
  {
   "cell_type": "code",
   "execution_count": 11,
   "metadata": {
    "hidden": true
   },
   "outputs": [
    {
     "name": "stdout",
     "output_type": "stream",
     "text": [
      "x+y = 6.857200000000001\n",
      "x-y = 13.1428\n",
      "x/y = -3.1818760341097114\n",
      "x%y = -2.5711999999999993\n",
      "x*y = -31.427999999999997\n",
      "x//y = -4.0\n",
      "x**y = 0.0007197803728026997\n"
     ]
    }
   ],
   "source": [
    "print('x+y =',x+y)\n",
    "print('x-y =',x-y)\n",
    "print('x/y =',x/y)\n",
    "print('x%y =',x%y)\n",
    "print('x*y =',x*y)\n",
    "print('x//y =',x//y)\n",
    "print('x**y =',x**y)"
   ]
  },
  {
   "cell_type": "markdown",
   "metadata": {
    "hidden": true
   },
   "source": [
    "#### порівняння\n",
    "| Позначка | Результат |\n",
    "|----|---|\n",
    "| == | True, якщо рівні |\n",
    "| !=  | True, якщо не рівні |\n",
    "| < | менше |\n",
    "| > | більше |\n",
    "| <=  | менше чи равно |\n",
    "| >=  | більше чи равно |"
   ]
  },
  {
   "cell_type": "code",
   "execution_count": 14,
   "metadata": {
    "hidden": true
   },
   "outputs": [
    {
     "name": "stdout",
     "output_type": "stream",
     "text": [
      "x==y : False\n",
      "x!=y : True\n",
      "x<y : False\n",
      "x>y : True\n",
      "x<=y : False\n",
      "x>=y : True\n"
     ]
    }
   ],
   "source": [
    "print('x==y :',x==y)\n",
    "print('x!=y :',x!=y)\n",
    "print('x<y :',x<y)\n",
    "print('x>y :',x>y)\n",
    "print('x<=y :',x<=y)\n",
    "print('x>=y :',x>=y)"
   ]
  },
  {
   "cell_type": "markdown",
   "metadata": {},
   "source": [
    "### Вбудовані функції перетворення типів\n",
    "1. str(<змінна чи вираз>) - перетворення в строку\n",
    "2. int(<змінна чи вираз>) - перетворення в ціле\n",
    "3. float(<змінна чи вираз>) - перетворення в дийсне число\n",
    "\n",
    "[Прочитати про інші функції перетворення типів](http://nikolay.in.ua/navchaemos/python-3/612-tipi-danikh-funktsiji-peretvorennya-tipiv-operatsiji-z-chislovimi-tipami)\n"
   ]
  },
  {
   "cell_type": "code",
   "execution_count": 24,
   "metadata": {},
   "outputs": [
    {
     "name": "stdout",
     "output_type": "stream",
     "text": [
      "str x: 10\n",
      "str y: -3.1428\n",
      "str s: Вася Пупкін\n",
      "str a: [10, -3.1428, 'Вася Пупкін']\n",
      "str b: False\n",
      "str t: (-3.1428, 'Студент')\n",
      "\n",
      "\n",
      "str x: 10\n",
      "str y: -3\n",
      "str s: cannot convert text to int\n",
      "\n",
      "\n",
      "float x: 10.0\n",
      "float y: -3.1428\n"
     ]
    }
   ],
   "source": [
    "print('str x:',str(x))\n",
    "print('str y:',str(y))\n",
    "print('str s:',str(s))\n",
    "print('str a:',str(a))\n",
    "print('str b:',str(b))\n",
    "print('str t:',str(t))\n",
    "print('\\n')\n",
    "print('str x:',int(x))\n",
    "print('str y:',int(y))\n",
    "print('str s: cannot convert text to int')\n",
    "print('\\n')\n",
    "print('float x:',float(x))\n",
    "print('float y:',float(y))"
   ]
  },
  {
   "cell_type": "markdown",
   "metadata": {},
   "source": [
    "## Завдання №3 \"Введення/вивід з консолі\"\n"
   ]
  },
  {
   "cell_type": "markdown",
   "metadata": {},
   "source": [
    "- __input__([символьний вираз]) - введення с консолі в _символьному форматі_ (__STDIN__) \n",
    "- __print__(<вираз>) - виведення в консоль (__STDOUT__)\n",
    "\n",
    "Для зчитування рядка зі стандартного вводу використовується функція input (), яка зчитує рядок з клавіатури і повертає значення, яке відразу ж можна привласнити змінним:\n",
    "`s = input()`\n",
    "\n",
    "Функція `input` повертає текстовий рядок. Якщо потрібно зробити так, щоб змінні мали чисельні значення, то відразу ж після зчитування виконаємо перетворення типів за допомогою функції `int` або `float`, і запишемо нове значення:\n",
    "`s1 = int(s)`\n",
    "\n",
    "Краще об'єднати зчитування рядків і перетворення типів, якщо викликати функцію int/float для того значення, яке поверне функція input ():\n",
    "`s = int(input())`"
   ]
  },
  {
   "cell_type": "code",
   "execution_count": 25,
   "metadata": {},
   "outputs": [
    {
     "name": "stdout",
     "output_type": "stream",
     "text": [
      "2.71\n"
     ]
    }
   ],
   "source": [
    "# ввести з консолі число 2.71 в змінну 'e'\n",
    "e = float(input())"
   ]
  },
  {
   "cell_type": "code",
   "execution_count": 26,
   "metadata": {},
   "outputs": [
    {
     "name": "stdout",
     "output_type": "stream",
     "text": [
      "146.1660310351\n"
     ]
    }
   ],
   "source": [
    "# вивести в консоль 'е' в супені 5\n",
    "print(e ** 5)"
   ]
  },
  {
   "cell_type": "markdown",
   "metadata": {},
   "source": [
    "#### форматування  при виведенні\n",
    "у Python для позначення рядка використовуються одинарні, подвійні та потрійні лапки. Більшість використовують одинарні лапки при оголошенні одного символу. Подвійні лапки при оголошенні рядка та потрійні лапки при оголошенні абзацу / кількох рядків.\n",
    "\n",
    "- 'A' - одиночний символ\n",
    "- \"Студент Вася\" - рядок символів\n",
    "- \"\"\" Перший рядок \n",
    "    \n",
    "      Другий рядок\n",
    "      \n",
    "      ...\"\"\"\n"
   ]
  },
  {
   "cell_type": "code",
   "execution_count": 27,
   "metadata": {},
   "outputs": [
    {
     "name": "stdout",
     "output_type": "stream",
     "text": [
      "Вася Пупкін\n",
      "1+1 -> 2\n"
     ]
    }
   ],
   "source": [
    "# Рядки можуть бути призначені змінним наприкалд `name` та `surname`, \n",
    "# які можна викликати при використанні оператора print.\n",
    "# Виконайте код, який наведено нижче\n",
    "name = \"Вася\"\n",
    "surname = \"Пупкін\"\n",
    "print (name, surname)\n",
    "print(\"1+1\", 2, sep=\" -> \")"
   ]
  },
  {
   "cell_type": "markdown",
   "metadata": {},
   "source": [
    "Напишіть нижче, для чого нужна '`,`' та `sep` в функції `print()`:\n",
    "\n",
    "**кома в функції `print()`** - для переліку об'єктів для виводу;\n",
    "**sep** – рядок, яким слід розділити об'єкти"
   ]
  },
  {
   "cell_type": "markdown",
   "metadata": {},
   "source": [
    "### форматування в функції `print()`\n",
    "\n",
    "[Прочитати про методи форматування вивода](https://python-scripts.com/string-formatting)"
   ]
  },
  {
   "cell_type": "code",
   "execution_count": 28,
   "metadata": {
    "run_control": {
     "marked": false
    }
   },
   "outputs": [
    {
     "name": "stdout",
     "output_type": "stream",
     "text": [
      "Вася Пупкін - це студент\n",
      "Результат буде = 12.4\n",
      "Вася - True хлопець!\n",
      "Пупкін Вася\n"
     ]
    }
   ],
   "source": [
    "# виконати код та розібратись, чому функція `print()...format` спрацювала таким чином\n",
    "print(\"{} {} - це студент\".format(name, surname))\n",
    "print(\"Результат буде = {}\".format(42 / 5 + 4))\n",
    "b = True\n",
    "print(\"{} - {} хлопець!\".format(name, b))\n",
    "print(\"{} {}\".format(surname, name))"
   ]
  },
  {
   "cell_type": "markdown",
   "metadata": {},
   "source": [
    "## Завдання №4 \"Керування обчисленнями\""
   ]
  },
  {
   "cell_type": "markdown",
   "metadata": {
    "run_control": {
     "marked": false
    }
   },
   "source": [
    "### Умовний оператор if / if-else / if-elif"
   ]
  },
  {
   "cell_type": "markdown",
   "metadata": {},
   "source": [
    "`if <логічний вираз(умова)> :\n",
    "  <код>`\n",
    "  \n",
    "`if <логічний вираз(умова)> :\n",
    "  <код>\n",
    " else :\n",
    "    <код>`\n",
    "\n",
    "`if <логічний вираз(умова)> :\n",
    "  <код>\n",
    " elif <логічний вираз_1(умова)> :\n",
    "  <код>\n",
    " elif <логічний вираз_2(умова)> :\n",
    "  <код>\n",
    "... \n",
    " [else] :\n",
    "   <код>`"
   ]
  },
  {
   "cell_type": "code",
   "execution_count": 1,
   "metadata": {},
   "outputs": [
    {
     "name": "stdout",
     "output_type": "stream",
     "text": [
      "Введи x: 4\n",
      "4\n",
      "4\n"
     ]
    }
   ],
   "source": [
    "x = int(input(\"Введи x: \"))\n",
    "\n",
    "# ----- 1 ----------\n",
    "if x > 5:\n",
    "    print (x)\n",
    "    \n",
    "# ----- 2 ----------    \n",
    "if -5 < x < 5 :\n",
    "    print (x)\n",
    "else:\n",
    "    print (x ** 2)\n",
    "    \n",
    "# ----- 3 ----------\n",
    "if x > -5:\n",
    "    print (x)\n",
    "elif -5 < x < 5:\n",
    "    print (x ** 2)\n",
    "elif x > 5:\n",
    "    print (x ** (1/2))"
   ]
  },
  {
   "cell_type": "markdown",
   "metadata": {},
   "source": [
    "напишіть, який __if__ спрацював при:\n",
    "\n",
    "x = -20      \n",
    "**#2 умова else**\n",
    "\n",
    "x = 31.5      \n",
    "**виводить помилку , потрібен формат int**\n",
    "\n",
    "x = 4         \n",
    "**#2 та #3 умови if**"
   ]
  },
  {
   "cell_type": "code",
   "execution_count": 4,
   "metadata": {},
   "outputs": [
    {
     "name": "stdout",
     "output_type": "stream",
     "text": [
      "Enter your age: 7\n",
      "Schoolboy\n"
     ]
    }
   ],
   "source": [
    "# напишить нижче код, який виводить слово 'студент', 'школяр' або 'малятко' \n",
    "# в залежності від введенного через консоль віку\n",
    "\n",
    "age = int(input('Enter your age: '))\n",
    "\n",
    "if age < 0:\n",
    "    print('error')\n",
    "elif age <= 6:\n",
    "    print('baby')\n",
    "elif 6< age < 18:\n",
    "    print('Schoolboy')\n",
    "elif age >= 18:\n",
    "    print('Student')\n"
   ]
  },
  {
   "cell_type": "markdown",
   "metadata": {},
   "source": [
    "### Цикли"
   ]
  },
  {
   "cell_type": "markdown",
   "metadata": {},
   "source": [
    "#### for\n",
    "\n",
    "`for <змінна> in <перераховуємий об'єкт>\n",
    "    код`\n",
    "    \n",
    "    \n",
    "__перераховуємий об'єкт__ - це об'єкт, який складається із декількох послідовних складових (чисел, строк та ін.)\n",
    "\n",
    "- 1, 13, -10, 321\n",
    "- \"Вася\", \"Пупкін\", \"студент\"\n",
    "- \"Вася\", -10.1, True\n",
    "\n",
    "[Прочитати про функцію `range`](https://python-scripts.com/range)"
   ]
  },
  {
   "cell_type": "code",
   "execution_count": 5,
   "metadata": {},
   "outputs": [
    {
     "name": "stdout",
     "output_type": "stream",
     "text": [
      "-1\n",
      "-3\n",
      "-5\n",
      "-7\n",
      "-9\n"
     ]
    }
   ],
   "source": [
    "# приклад цикла з 'for' та 'if'\n",
    "for i in range(10):\n",
    "    if i % 2 != 0:\n",
    "        print (-i)\n",
    "    else:\n",
    "        pass"
   ]
  },
  {
   "cell_type": "markdown",
   "metadata": {},
   "source": [
    "напишить своїми словами, що виконує наведений вище код\n",
    "\n",
    "Алгоритм перевіряє усі числа з проміжку від 0 до 10 (не включаючи 10) на кратність числу 2. Якщо число не ділиться на 2 без остачі, алгоритм виводить число, що є протилежним до даного."
   ]
  },
  {
   "cell_type": "code",
   "execution_count": 6,
   "metadata": {},
   "outputs": [
    {
     "name": "stdout",
     "output_type": "stream",
     "text": [
      "1665\n"
     ]
    }
   ],
   "source": [
    "# напишіть нижче код, який сумує числа, які діляться без остатка на 3 \n",
    "# в інтервалі від 10 до 100\n",
    "\n",
    "sum = 0\n",
    "for i in range(10, 100):\n",
    "    if i % 3 == 0:\n",
    "        sum += i \n",
    "    else:\n",
    "        pass\n",
    "print(sum)"
   ]
  },
  {
   "cell_type": "markdown",
   "metadata": {},
   "source": [
    "#### while\n",
    "\n",
    "[прочитати про цикл while](https://pythonru.com/osnovy/cikl-while-v-python)"
   ]
  },
  {
   "cell_type": "code",
   "execution_count": null,
   "metadata": {},
   "outputs": [
    {
     "name": "stdout",
     "output_type": "stream",
     "text": [
      "тисни тут: 10\n",
      "було введено\n",
      "тисни тут: 5\n",
      "було введено\n",
      "тисни тут: 3\n",
      "було введено\n"
     ]
    }
   ],
   "source": [
    "# запустіть цей код \n",
    "while(input(\"тисни тут: \") != '0'):\n",
    "    print (\"було введено\")"
   ]
  },
  {
   "cell_type": "code",
   "execution_count": 1,
   "metadata": {},
   "outputs": [
    {
     "name": "stdout",
     "output_type": "stream",
     "text": [
      "1665\n"
     ]
    }
   ],
   "source": [
    "# використовуючи 'while`напишіть нижче код, який сумує числа, \n",
    "# які діляться без остатка на 3 в інтервалі від 10 до 100\n",
    "\n",
    "sum = 0\n",
    "i = 10\n",
    "while(i < 100):\n",
    "    i+=1\n",
    "    if(i%3==0):\n",
    "        sum+=i\n",
    "print(sum)\n",
    "    "
   ]
  },
  {
   "cell_type": "markdown",
   "metadata": {},
   "source": [
    "## Виконану роботу перешліть через Teams викладачу"
   ]
  }
 ],
 "metadata": {
  "kernelspec": {
   "display_name": "Python 3",
   "language": "python",
   "name": "python3"
  },
  "language_info": {
   "codemirror_mode": {
    "name": "ipython",
    "version": 3
   },
   "file_extension": ".py",
   "mimetype": "text/x-python",
   "name": "python",
   "nbconvert_exporter": "python",
   "pygments_lexer": "ipython3",
   "version": "3.8.8"
  },
  "varInspector": {
   "cols": {
    "lenName": 16,
    "lenType": 16,
    "lenVar": 40
   },
   "kernels_config": {
    "python": {
     "delete_cmd_postfix": "",
     "delete_cmd_prefix": "del ",
     "library": "var_list.py",
     "varRefreshCmd": "print(var_dic_list())"
    },
    "r": {
     "delete_cmd_postfix": ") ",
     "delete_cmd_prefix": "rm(",
     "library": "var_list.r",
     "varRefreshCmd": "cat(var_dic_list()) "
    }
   },
   "types_to_exclude": [
    "module",
    "function",
    "builtin_function_or_method",
    "instance",
    "_Feature"
   ],
   "window_display": false
  }
 },
 "nbformat": 4,
 "nbformat_minor": 2
}
